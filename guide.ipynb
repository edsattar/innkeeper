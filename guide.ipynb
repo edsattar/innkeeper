{
 "cells": [
  {
   "attachments": {},
   "cell_type": "markdown",
   "metadata": {},
   "source": [
    "`pip install djangorestframework`\n"
   ]
  },
  {
   "attachments": {},
   "cell_type": "markdown",
   "metadata": {},
   "source": [
    "add rest_framework to settings.py"
   ]
  },
  {
   "attachments": {},
   "cell_type": "markdown",
   "metadata": {},
   "source": [
    "create serializer.py in app dir\n",
    "\n",
    "in serializer.py\n",
    "\n",
    "`from rest_framework import serializers<br>\n",
    "from . import models`\n",
    "\n",
    "then create serializers\n",
    "\n",
    "`class GuestSerializer(serializers.ModelSerializer):`<br>\n",
    "`class Meta:<br>` <br>\n",
    "`model = models.Guest` <br>\n",
    "`fields = '__all__'` <br>"
   ]
  },
  {
   "cell_type": "markdown",
   "metadata": {},
   "source": []
  },
  {
   "cell_type": "markdown",
   "metadata": {},
   "source": []
  },
  {
   "attachments": {},
   "cell_type": "markdown",
   "metadata": {},
   "source": [
    "in views.py\n",
    "\n",
    "`from rest_framework.views import APIView`<br>\n",
    "`from . import models`<br>\n",
    "`from . import serializers`<br>"
   ]
  },
  {
   "cell_type": "markdown",
   "metadata": {},
   "source": []
  }
 ],
 "metadata": {
  "kernelspec": {
   "display_name": "venv",
   "language": "python",
   "name": "python3"
  },
  "language_info": {
   "name": "python",
   "version": "3.11.1 (tags/v3.11.1:a7a450f, Dec  6 2022, 19:58:39) [MSC v.1934 64 bit (AMD64)]"
  },
  "orig_nbformat": 4,
  "vscode": {
   "interpreter": {
    "hash": "9f9c8143bec5e92a14df5a6846ae9bd146e26e8dd06c24822ed37502d0e819c5"
   }
  }
 },
 "nbformat": 4,
 "nbformat_minor": 2
}
